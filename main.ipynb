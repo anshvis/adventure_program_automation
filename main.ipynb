{
 "cells": [
  {
   "cell_type": "code",
   "execution_count": 1,
   "metadata": {},
   "outputs": [],
   "source": [
    "import tkinter as tk\n",
    "from tkinter import filedialog\n",
    "import csv"
   ]
  },
  {
   "cell_type": "code",
   "execution_count": 2,
   "metadata": {},
   "outputs": [
    {
     "name": "stdout",
     "output_type": "stream",
     "text": [
      "Click on the file with all the students who are registered for the trip:\n",
      "<_io.TextIOWrapper name='/Users/anshviswanathan/Desktop/Extracurriculars/Python/adventure_program_automation/TableRegistration.xlsx - Sheet.csv' mode='r' encoding='UTF-8'>\n",
      "Click on the file with all the students on the waitlist:\n",
      "<_io.TextIOWrapper name='/Users/anshviswanathan/Desktop/Extracurriculars/Python/adventure_program_automation/Waitlist.xlsx - Sheet.csv' mode='r' encoding='UTF-8'>\n"
     ]
    }
   ],
   "source": [
    "root = tk.Tk()\n",
    "root.withdraw()\n",
    "print(\"Click on the file with all the students who are registered for the trip:\")\n",
    "file_registered = filedialog.askopenfile()\n",
    "print(file_registered)\n",
    "print(\"Click on the file with all the students on the waitlist:\")\n",
    "file_waitlist = filedialog.askopenfile()\n",
    "print(file_waitlist)\n",
    "output_name = input(\"What would you like the file to be called?\\n\")\n",
    "output_name += '.csv'"
   ]
  },
  {
   "cell_type": "code",
   "execution_count": 3,
   "metadata": {},
   "outputs": [
    {
     "name": "stdout",
     "output_type": "stream",
     "text": [
      "<_io.TextIOWrapper name='yeet.csv' mode='w' encoding='UTF-8'>\n"
     ]
    }
   ],
   "source": [
    "output = open(output_name, \"w\")\n",
    "\n",
    "first_name = []\n",
    "last_name = []\n",
    "uid = []\n",
    "email = []\n",
    "emergency_contact = []\n",
    "registration_date = []\n",
    "\n",
    "reg = csv.reader(file_registered, delimiter=',')\n",
    "length = 0   \n",
    "for r in reg:\n",
    "    if length != 0:\n",
    "        first_name.append(r[18])\n",
    "        last_name.append(r[19])\n",
    "        uid.append(r[10])\n",
    "        email.append(r[11])\n",
    "        emergency_contact.append(r[29])\n",
    "        registration_date.append(r[26])\n",
    "    length += 1\n",
    "\n",
    "output.write(\"Name, UID / Member #, Email Address, Emergency Contact, Registration Date\\n\")\n",
    "\n",
    "for i in range(0, length-1):\n",
    "    output.write(str(first_name[i]) + ' ' + str(last_name[i]) + ',\"' + str(uid[i]) +  '\",' + str(email[i]) + ',' + str(emergency_contact[i]) + ',' + str(registration_date[i]) + '\\n')\n",
    "\n",
    "w_name = []\n",
    "w_uid = []\n",
    "w_email = []\n",
    "w_emergency_contact = []\n",
    "\n",
    "wait = csv.reader(file_waitlist, delimiter=',')\n",
    "length = 0\n",
    "for r in wait:\n",
    "    if length != 0:\n",
    "        w_name.append(r[2])\n",
    "        w_uid.append(r[4])\n",
    "        w_email.append(r[6])\n",
    "        w_emergency_contact.append(r[5]) \n",
    "    length += 1\n",
    "\n",
    "output.write(\"\\nWaitlist, , , , \\n\")\n",
    "\n",
    "for i in range(0, length-1):\n",
    "    output.write(str(w_name[i]) + ',' + str(w_uid[i]) +  ',' + str(w_email[i]) + ',' + str(w_emergency_contact[i]) + ',\\n')\n",
    "\n",
    "output.close()\n",
    "\n",
    "print(output)"
   ]
  }
 ],
 "metadata": {
  "kernelspec": {
   "display_name": "Python 3.9.7",
   "language": "python",
   "name": "python3"
  },
  "language_info": {
   "codemirror_mode": {
    "name": "ipython",
    "version": 3
   },
   "file_extension": ".py",
   "mimetype": "text/x-python",
   "name": "python",
   "nbconvert_exporter": "python",
   "pygments_lexer": "ipython3",
   "version": "3.9.7"
  },
  "orig_nbformat": 4,
  "vscode": {
   "interpreter": {
    "hash": "38cca0c38332a56087b24af0bc80247f4fced29cb4f7f437d91dc159adec9c4e"
   }
  }
 },
 "nbformat": 4,
 "nbformat_minor": 2
}
